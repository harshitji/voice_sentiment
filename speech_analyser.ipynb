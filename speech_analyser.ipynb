{
 "cells": [
  {
   "cell_type": "code",
   "execution_count": 1,
   "id": "2993bdb0",
   "metadata": {},
   "outputs": [
    {
     "name": "stdout",
     "output_type": "stream",
     "text": [
      "Requirement already satisfied: pipwin in c:\\users\\lenovo\\appdata\\roaming\\python\\python38\\site-packages (0.5.1)\n",
      "Requirement already satisfied: pySmartDL>=1.3.1 in c:\\users\\lenovo\\appdata\\roaming\\python\\python38\\site-packages (from pipwin) (1.3.4)\n",
      "Requirement already satisfied: requests in c:\\users\\lenovo\\anaconda3\\lib\\site-packages (from pipwin) (2.25.1)\n",
      "Requirement already satisfied: six in c:\\users\\lenovo\\anaconda3\\lib\\site-packages (from pipwin) (1.15.0)\n",
      "Requirement already satisfied: docopt in c:\\users\\lenovo\\appdata\\roaming\\python\\python38\\site-packages (from pipwin) (0.6.2)\n",
      "Requirement already satisfied: js2py in c:\\users\\lenovo\\appdata\\roaming\\python\\python38\\site-packages (from pipwin) (0.71)\n",
      "Requirement already satisfied: packaging in c:\\users\\lenovo\\anaconda3\\lib\\site-packages (from pipwin) (20.9)\n",
      "Requirement already satisfied: pyprind in c:\\users\\lenovo\\appdata\\roaming\\python\\python38\\site-packages (from pipwin) (2.11.3)\n",
      "Requirement already satisfied: beautifulsoup4>=4.9.0 in c:\\users\\lenovo\\anaconda3\\lib\\site-packages (from pipwin) (4.9.3)\n",
      "Requirement already satisfied: soupsieve>1.2 in c:\\users\\lenovo\\anaconda3\\lib\\site-packages (from beautifulsoup4>=4.9.0->pipwin) (2.2.1)\n",
      "Requirement already satisfied: tzlocal>=1.2 in c:\\users\\lenovo\\appdata\\roaming\\python\\python38\\site-packages (from js2py->pipwin) (2.1)\n",
      "Requirement already satisfied: pyjsparser>=2.5.1 in c:\\users\\lenovo\\appdata\\roaming\\python\\python38\\site-packages (from js2py->pipwin) (2.7.1)\n",
      "Requirement already satisfied: pytz in c:\\users\\lenovo\\anaconda3\\lib\\site-packages (from tzlocal>=1.2->js2py->pipwin) (2021.1)\n",
      "Requirement already satisfied: pyparsing>=2.0.2 in c:\\users\\lenovo\\anaconda3\\lib\\site-packages (from packaging->pipwin) (2.4.7)\n",
      "Requirement already satisfied: chardet<5,>=3.0.2 in c:\\users\\lenovo\\anaconda3\\lib\\site-packages (from requests->pipwin) (4.0.0)\n",
      "Requirement already satisfied: idna<3,>=2.5 in c:\\users\\lenovo\\anaconda3\\lib\\site-packages (from requests->pipwin) (2.10)\n",
      "Requirement already satisfied: certifi>=2017.4.17 in c:\\users\\lenovo\\anaconda3\\lib\\site-packages (from requests->pipwin) (2020.12.5)\n",
      "Requirement already satisfied: urllib3<1.27,>=1.21.1 in c:\\users\\lenovo\\anaconda3\\lib\\site-packages (from requests->pipwin) (1.26.4)\n"
     ]
    }
   ],
   "source": [
    "!pip install --user pipwin"
   ]
  },
  {
   "cell_type": "code",
   "execution_count": 2,
   "id": "9237d673",
   "metadata": {},
   "outputs": [
    {
     "name": "stdout",
     "output_type": "stream",
     "text": [
      "Requirement already satisfied: pyAudio in c:\\users\\lenovo\\anaconda3\\lib\\site-packages (0.2.11)\n"
     ]
    }
   ],
   "source": [
    "!pip install pyAudio\n"
   ]
  },
  {
   "cell_type": "code",
   "execution_count": 3,
   "id": "a88ff4e0",
   "metadata": {},
   "outputs": [
    {
     "name": "stdout",
     "output_type": "stream",
     "text": [
      "Requirement already satisfied: SpeechRecognition in c:\\users\\lenovo\\anaconda3\\lib\\site-packages (3.8.1)\n"
     ]
    }
   ],
   "source": [
    "!pip install SpeechRecognition"
   ]
  },
  {
   "cell_type": "code",
   "execution_count": 4,
   "id": "9f29c418",
   "metadata": {},
   "outputs": [
    {
     "name": "stdout",
     "output_type": "stream",
     "text": [
      "Requirement already satisfied: textblob in c:\\users\\lenovo\\anaconda3\\lib\\site-packages (0.15.3)\n",
      "Requirement already satisfied: nltk>=3.1 in c:\\users\\lenovo\\anaconda3\\lib\\site-packages (from textblob) (3.6.1)\n",
      "Requirement already satisfied: regex in c:\\users\\lenovo\\anaconda3\\lib\\site-packages (from nltk>=3.1->textblob) (2021.4.4)\n",
      "Requirement already satisfied: tqdm in c:\\users\\lenovo\\anaconda3\\lib\\site-packages (from nltk>=3.1->textblob) (4.59.0)\n",
      "Requirement already satisfied: click in c:\\users\\lenovo\\anaconda3\\lib\\site-packages (from nltk>=3.1->textblob) (7.1.2)\n",
      "Requirement already satisfied: joblib in c:\\users\\lenovo\\anaconda3\\lib\\site-packages (from nltk>=3.1->textblob) (1.0.1)\n"
     ]
    }
   ],
   "source": [
    "!pip install textblob\n"
   ]
  },
  {
   "cell_type": "code",
   "execution_count": 13,
   "id": "dd162465",
   "metadata": {},
   "outputs": [],
   "source": [
    "import speech_recognition as sr"
   ]
  },
  {
   "cell_type": "code",
   "execution_count": 14,
   "id": "f50b8a60",
   "metadata": {},
   "outputs": [],
   "source": [
    "def recognize_speech_from_mic(recognizer, microphone):\n",
    "\n",
    "    \n",
    "    if not isinstance(recognizer, sr.Recognizer):\n",
    "        raise TypeError(\"`recognizer` must be `Recognizer` instance\")\n",
    "\n",
    "    if not isinstance(microphone, sr.Microphone):\n",
    "        raise TypeError(\"`microphone` must be `Microphone` instance\")\n",
    "\n",
    "    \n",
    "    with microphone as source:\n",
    "        recognizer.adjust_for_ambient_noise(source) # #  analyze the audio source for 1 second\n",
    "        audio = recognizer.listen(source)\n",
    "\n",
    "    # set up the response object\n",
    "    response = {\n",
    "        \"success\": True,\n",
    "        \"error\": None,\n",
    "        \"transcription\": None\n",
    "    }\n",
    "\n",
    "    \n",
    "    try:\n",
    "        response[\"transcription\"] = recognizer.recognize_google(audio)\n",
    "    except sr.RequestError:\n",
    "        # API was unreachable or unresponsive\n",
    "        response[\"success\"] = False\n",
    "        response[\"error\"] = \"API unavailable/unresponsive\"\n",
    "    except sr.UnknownValueError:\n",
    "        # speech was unintelligible\n",
    "        response[\"error\"] = \"Unable to recognize speech\"\n",
    "\n",
    "    return response"
   ]
  },
  {
   "cell_type": "code",
   "execution_count": 15,
   "id": "feca5e68",
   "metadata": {},
   "outputs": [],
   "source": [
    "recognizer = sr.Recognizer()"
   ]
  },
  {
   "cell_type": "code",
   "execution_count": 16,
   "id": "b42055d5",
   "metadata": {},
   "outputs": [],
   "source": [
    "mic = sr.Microphone(device_index=1)"
   ]
  },
  {
   "cell_type": "code",
   "execution_count": 17,
   "id": "2fb209f5",
   "metadata": {},
   "outputs": [],
   "source": [
    "response = recognize_speech_from_mic(recognizer, mic)"
   ]
  },
  {
   "cell_type": "code",
   "execution_count": 18,
   "id": "c1b8f15a",
   "metadata": {},
   "outputs": [
    {
     "name": "stdout",
     "output_type": "stream",
     "text": [
      "\n",
      "Success : True\n",
      "Error   : None\n",
      "\n",
      "Text from Speech\n",
      "-----------------\n",
      "\n",
      "was good\n"
     ]
    }
   ],
   "source": [
    "print('\\nSuccess : {}\\nError   : {}\\n\\nText from Speech\\n{}\\n\\n{}' \\\n",
    "          .format(response['success'],\n",
    "                  response['error'],\n",
    "                  '-'*17,\n",
    "                  response['transcription']))"
   ]
  },
  {
   "cell_type": "code",
   "execution_count": null,
   "id": "f2f0c24d",
   "metadata": {},
   "outputs": [
    {
     "name": "stdout",
     "output_type": "stream",
     "text": [
      "Speak it out\n",
      "You said : white Centre sentiment analysis\n",
      "Speak it out\n",
      "You said : yah\n",
      "Speak it out\n",
      "You said : None\n",
      "Speak it out\n",
      "You said : None\n",
      "Speak it out\n",
      "You said : None\n",
      "Speak it out\n",
      "You said : None\n",
      "Speak it out\n",
      "You said : None\n",
      "Speak it out\n",
      "You said : None\n",
      "Speak it out\n",
      "You said : None\n",
      "Speak it out\n",
      "You said : None\n",
      "Speak it out\n",
      "You said : None\n",
      "Speak it out\n",
      "You said : None\n",
      "Speak it out\n",
      "You said : None\n",
      "Speak it out\n",
      "You said : None\n",
      "Speak it out\n",
      "You said : None\n",
      "Speak it out\n",
      "You said : None\n",
      "Speak it out\n",
      "You said : None\n",
      "Speak it out\n",
      "You said : None\n",
      "Speak it out\n",
      "You said : None\n",
      "Speak it out\n",
      "You said : None\n",
      "Speak it out\n",
      "You said : None\n",
      "Speak it out\n",
      "You said : None\n",
      "Speak it out\n",
      "You said : None\n",
      "Speak it out\n",
      "You said : None\n",
      "Speak it out\n",
      "You said : None\n",
      "Speak it out\n",
      "You said : None\n",
      "Speak it out\n",
      "You said : None\n",
      "Speak it out\n",
      "You said : None\n",
      "Speak it out\n",
      "You said : None\n",
      "Speak it out\n",
      "You said : None\n",
      "Speak it out\n",
      "You said : None\n",
      "Speak it out\n",
      "You said : None\n",
      "Speak it out\n",
      "You said : None\n",
      "Speak it out\n",
      "You said : None\n",
      "Speak it out\n",
      "You said : None\n",
      "Speak it out\n",
      "You said : None\n",
      "Speak it out\n",
      "You said : None\n",
      "Speak it out\n",
      "You said : None\n",
      "Speak it out\n",
      "You said : None\n",
      "Speak it out\n",
      "You said : None\n",
      "Speak it out\n",
      "You said : None\n",
      "Speak it out\n",
      "You said : None\n",
      "Speak it out\n",
      "You said : None\n",
      "Speak it out\n",
      "You said : None\n",
      "Speak it out\n",
      "You said : None\n",
      "Speak it out\n",
      "You said : None\n",
      "Speak it out\n",
      "You said : None\n",
      "Speak it out\n",
      "You said : None\n",
      "Speak it out\n",
      "You said : None\n",
      "Speak it out\n",
      "You said : None\n",
      "Speak it out\n",
      "You said : None\n",
      "Speak it out\n",
      "You said : None\n",
      "Speak it out\n",
      "You said : None\n",
      "Speak it out\n",
      "You said : None\n",
      "Speak it out\n",
      "You said : None\n",
      "Speak it out\n",
      "You said : None\n",
      "Speak it out\n",
      "You said : None\n",
      "Speak it out\n",
      "You said : None\n",
      "Speak it out\n",
      "You said : None\n",
      "Speak it out\n",
      "You said : None\n",
      "Speak it out\n",
      "You said : None\n",
      "Speak it out\n",
      "You said : None\n",
      "Speak it out\n"
     ]
    }
   ],
   "source": [
    "temp_str = ''\n",
    "records_all = []\n",
    "while (temp_str != 'bye'):\n",
    "    print('Speak it out')\n",
    "    response = recognize_speech_from_mic(recognizer, mic)\n",
    "    if response['success']:\n",
    "        temp_str = response['transcription']\n",
    "        print('You said :' ,temp_str )\n",
    "        if (temp_str != 'bye'):\n",
    "            records_all.append(temp_str)\n",
    "print('Thanks for your suggetions')\n",
    "print('Your suggetions on given Movies')\n",
    "print(records_all)"
   ]
  },
  {
   "cell_type": "code",
   "execution_count": null,
   "id": "f8f6a82a",
   "metadata": {},
   "outputs": [],
   "source": [
    "from textblob import TextBlob\n"
   ]
  },
  {
   "cell_type": "code",
   "execution_count": null,
   "id": "1c35716b",
   "metadata": {},
   "outputs": [],
   "source": [
    "def get_sentiment(sentx):\n",
    "        '''\n",
    "        Utility function to classify sentiment of passed tweet\n",
    "        using textblob's sentiment method\n",
    "        '''\n",
    "       \n",
    "        analysis = TextBlob(sentx)\n",
    "        \n",
    "        if analysis.sentiment.polarity > 0:\n",
    "            return ('positive')\n",
    "        elif analysis.sentiment.polarity == 0:\n",
    "            return ('neutral')\n",
    "        else:\n",
    "            return ('negative')"
   ]
  },
  {
   "cell_type": "code",
   "execution_count": null,
   "id": "a4dbbdd4",
   "metadata": {},
   "outputs": [],
   "source": [
    "\n",
    "sentimets_total = {'neutral': 0 , 'positive' : 0 , 'negative':0}\n",
    "for recd_sent in records_all:\n",
    "    sentiment = get_sentiment(recd_sent)\n",
    "    print (sentiment,'===>',recd_sent)\n",
    "    sentimets_total[sentiment] = sentimets_total[sentiment] + 1\n",
    "    print('###########################################')\n",
    "print(sentimets_total)"
   ]
  },
  {
   "cell_type": "code",
   "execution_count": null,
   "id": "79965627",
   "metadata": {},
   "outputs": [],
   "source": []
  }
 ],
 "metadata": {
  "kernelspec": {
   "display_name": "Python 3",
   "language": "python",
   "name": "python3"
  },
  "language_info": {
   "codemirror_mode": {
    "name": "ipython",
    "version": 3
   },
   "file_extension": ".py",
   "mimetype": "text/x-python",
   "name": "python",
   "nbconvert_exporter": "python",
   "pygments_lexer": "ipython3",
   "version": "3.8.8"
  }
 },
 "nbformat": 4,
 "nbformat_minor": 5
}
